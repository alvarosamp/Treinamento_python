{
  "cells": [
    {
      "cell_type": "markdown",
      "metadata": {
        "id": "view-in-github",
        "colab_type": "text"
      },
      "source": [
        "<a href=\"https://colab.research.google.com/github/alvarosamp/Treinamento-Python/blob/main/Aula1.ipynb\" target=\"_parent\"><img src=\"https://colab.research.google.com/assets/colab-badge.svg\" alt=\"Open In Colab\"/></a>"
      ]
    },
    {
      "cell_type": "markdown",
      "source": [
        "## Treinamento em python\n",
        "\n",
        "\n"
      ],
      "metadata": {
        "id": "ETBOPZCdbwFQ"
      },
      "id": "ETBOPZCdbwFQ"
    },
    {
      "cell_type": "markdown",
      "source": [
        "Nessa primeira aula irei ensinar a a instalação e como testar o python\n",
        "# 📘 Aula 1 – Instalação e Teste do Python\n",
        "\n",
        "## 🐍 O que é o Python?\n",
        "\n",
        "Python é uma linguagem de programação moderna, simples e muito poderosa. É usada em diversas áreas, como:\n",
        "\n",
        "- Desenvolvimento Web\n",
        "- Inteligência Artificial\n",
        "- Ciência de Dados\n",
        "- Automação\n",
        "- Jogos e muito mais!\n",
        "\n",
        "---\n",
        "\n",
        "## ✅ Passo a Passo para Instalar o Python\n",
        "\n",
        "### 🔹 1. Acesse o site oficial\n",
        "\n",
        "Abra o navegador e vá até o site oficial do Python:  \n",
        "👉 [https://www.python.org](https://www.python.org)\n",
        "\n",
        "### 🔹 2. Baixe o instalador\n",
        "\n",
        "- Clique em **\"Downloads\"**\n",
        "- O site irá sugerir automaticamente a versão ideal para seu sistema.\n",
        "- Clique em **\"Download Python 3.X.X\"** (exemplo: *Download Python 3.12.1*)\n",
        "\n",
        "### 🔹 3. Execute o instalador\n",
        "\n",
        "- Abra o arquivo baixado.\n",
        "- **Importante:** marque a opção ✅ **\"Add Python to PATH\"**\n",
        "- Clique em **\"Install Now\"**\n",
        "- Aguarde até o final da instalação.\n",
        "\n",
        "### 🔹 4. Verifique se o Python foi instalado corretamente\n",
        "\n",
        "#### No **Windows**:\n",
        "\n",
        "1. Pressione `Win + R`, digite `cmd` e pressione `Enter`\n",
        "2. Digite no terminal: python --version\n",
        "\n"
      ],
      "metadata": {
        "id": "RPUwaErIcOTY"
      },
      "id": "RPUwaErIcOTY"
    },
    {
      "cell_type": "markdown",
      "source": [
        "## Hello world\n"
      ],
      "metadata": {
        "id": "JY98LHADbzew"
      },
      "id": "JY98LHADbzew"
    },
    {
      "cell_type": "code",
      "execution_count": null,
      "id": "b102a300",
      "metadata": {
        "id": "b102a300",
        "outputId": "37f6c9e8-dff3-4257-b394-9fbeaa185afd"
      },
      "outputs": [
        {
          "name": "stdout",
          "output_type": "stream",
          "text": [
            "Olá Mundo!\n"
          ]
        }
      ],
      "source": [
        "print('Olá Mundo!')"
      ]
    },
    {
      "cell_type": "markdown",
      "id": "73ff3ec4",
      "metadata": {
        "id": "73ff3ec4"
      },
      "source": [
        "Gere código Python que crie uma lista com os números entre 1 e 100 e então imprima os números pares, mas somente  se o número for divisível por 4."
      ]
    },
    {
      "cell_type": "code",
      "execution_count": null,
      "id": "5741de71",
      "metadata": {
        "id": "5741de71"
      },
      "outputs": [],
      "source": [
        "# Cria uma lista com os números entre 1 e 100\n",
        "numeros = list(range(1, 101))"
      ]
    },
    {
      "cell_type": "code",
      "execution_count": null,
      "id": "2dd5a17c",
      "metadata": {
        "id": "2dd5a17c",
        "outputId": "59a17f40-7275-4083-c475-2f200a849c23"
      },
      "outputs": [
        {
          "data": {
            "text/plain": [
              "list"
            ]
          },
          "execution_count": 6,
          "metadata": {},
          "output_type": "execute_result"
        }
      ],
      "source": [
        "type(numeros)"
      ]
    },
    {
      "cell_type": "code",
      "execution_count": null,
      "id": "3cdfd1ba",
      "metadata": {
        "id": "3cdfd1ba",
        "outputId": "9ba5c5b2-0ebd-4054-d68a-75cd377afdbf"
      },
      "outputs": [
        {
          "name": "stdout",
          "output_type": "stream",
          "text": [
            "4\n",
            "8\n",
            "12\n",
            "16\n",
            "20\n",
            "24\n",
            "28\n",
            "32\n",
            "36\n",
            "40\n",
            "44\n",
            "48\n",
            "52\n",
            "56\n",
            "60\n",
            "64\n",
            "68\n",
            "72\n",
            "76\n",
            "80\n",
            "84\n",
            "88\n",
            "92\n",
            "96\n",
            "100\n"
          ]
        }
      ],
      "source": [
        "# Percorre a lista e verifica se o número é par e divisível por 4\n",
        "for numero in numeros:\n",
        "    if numero % 2 == 0 and numero % 4 == 0:\n",
        "        print(numero)\n"
      ]
    },
    {
      "cell_type": "markdown",
      "id": "2bb15566",
      "metadata": {
        "id": "2bb15566"
      },
      "source": [
        "Gere código Python que crie uma lista com os números entre 1 e 100 e então imprima os números pares, mas somente  se o número for divisível por 4, usando list comprehension."
      ]
    },
    {
      "cell_type": "code",
      "execution_count": null,
      "id": "3f66147a",
      "metadata": {
        "id": "3f66147a",
        "outputId": "60fda85b-3d67-43f8-b8b1-5248dbeef1d3"
      },
      "outputs": [
        {
          "name": "stdout",
          "output_type": "stream",
          "text": [
            "[4, 8, 12, 16, 20, 24, 28, 32, 36, 40, 44, 48, 52, 56, 60, 64, 68, 72, 76, 80, 84, 88, 92, 96, 100]\n"
          ]
        }
      ],
      "source": [
        "# Cria uma lista com os números entre 1 e 100\n",
        "numeros = list(range(1, 101))\n",
        "\n",
        "# Usa a list comprehension para gerar uma lista somente com os números pares e divisíveis por 4\n",
        "pares_div4 = [numero for numero in numeros if numero % 2 == 0 and numero % 4 == 0]\n",
        "\n",
        "# Imprime a lista gerada\n",
        "print(pares_div4)\n"
      ]
    },
    {
      "cell_type": "code",
      "execution_count": null,
      "id": "d77ff33d",
      "metadata": {
        "id": "d77ff33d",
        "outputId": "cb4e06d0-f9f3-4a50-8381-1debf84735c0"
      },
      "outputs": [
        {
          "data": {
            "text/plain": [
              "list"
            ]
          },
          "execution_count": 11,
          "metadata": {},
          "output_type": "execute_result"
        }
      ],
      "source": [
        "type(pares_div4)"
      ]
    },
    {
      "cell_type": "markdown",
      "id": "9c25a087",
      "metadata": {
        "id": "9c25a087"
      },
      "source": [
        "# Fim"
      ]
    }
  ],
  "metadata": {
    "kernelspec": {
      "display_name": "Python 3 (ipykernel)",
      "language": "python",
      "name": "python3"
    },
    "language_info": {
      "codemirror_mode": {
        "name": "ipython",
        "version": 3
      },
      "file_extension": ".py",
      "mimetype": "text/x-python",
      "name": "python",
      "nbconvert_exporter": "python",
      "pygments_lexer": "ipython3",
      "version": "3.9.13"
    },
    "colab": {
      "provenance": [],
      "include_colab_link": true
    }
  },
  "nbformat": 4,
  "nbformat_minor": 5
}