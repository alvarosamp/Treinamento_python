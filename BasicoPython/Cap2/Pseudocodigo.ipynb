{
  "cells": [
    {
      "cell_type": "markdown",
      "metadata": {
        "id": "view-in-github",
        "colab_type": "text"
      },
      "source": [
        "<a href=\"https://colab.research.google.com/github/alvarosamp/Treinamento-Python/blob/main/Aula2.ipynb\" target=\"_parent\"><img src=\"https://colab.research.google.com/assets/colab-badge.svg\" alt=\"Open In Colab\"/></a>"
      ]
    },
    {
      "cell_type": "markdown",
      "metadata": {
        "id": "MHJaKMR8d9UH"
      },
      "source": [
        "## Aula 2\n",
        "\n",
        "Nessa aula vamos aplicar os mesmos conhecimentos aprendidos em c++ mas agora transformando para python.\n",
        "\n",
        "\n",
        "Nesse notebook vamos entender os pseudocódigos, ou seja, logicas de codigos(na cabeça) e converte-las em um algoritmo python"
      ]
    },
    {
      "cell_type": "code",
      "execution_count": null,
      "metadata": {
        "id": "o_eN0ZMvd9UI",
        "outputId": "6caab527-f4ad-4c7e-d21d-93abe65f492c"
      },
      "outputs": [
        {
          "name": "stdout",
          "output_type": "stream",
          "text": [
            "Versão da Linguagem Python Usada Neste Jupyter Notebook: 3.9.13\n"
          ]
        }
      ],
      "source": [
        "# Versão da Linguagem Python\n",
        "# Sempre é bom voces saberem qual versao das bibliotecas que estao utilizando, python sempre esta em constante atualização, logo, sempre tenham a versao na ponta da caneta\n",
        "from platform import python_version\n",
        "print('Versão da Linguagem Python Usada Neste Jupyter Notebook:', python_version())"
      ]
    },
    {
      "cell_type": "markdown",
      "metadata": {
        "id": "1WHFfuKtd9UI"
      },
      "source": [
        "#### Pressione as teclas shift e enter para executar o código em uma célula ou pressione o botão Run no menu superior."
      ]
    },
    {
      "cell_type": "markdown",
      "metadata": {
        "id": "0GF9tzsId9UI"
      },
      "source": [
        "## Pseudocódigo 1 - Calcular a Área de Um Paralelograma\n",
        "\n"
      ]
    },
    {
      "cell_type": "markdown",
      "metadata": {
        "id": "PeTpbLt3d9UJ"
      },
      "source": [
        "PSeudocodigo:\n",
        "    \n",
        "    Exiba \"Bem-vindo ao Calculador de Área de Paralelogramo\"\n",
        "    Peça para o usuário inserir o comprimento da base\n",
        "    Armazene o comprimento da base em uma variável\n",
        "    Peça para o usuário inserir a altura\n",
        "    Armazene a altura em uma variável\n",
        "    Calcule a área do paralelogramo:  base * altura\n",
        "    Armazene o resultado em uma variável\n",
        "    Exiba o resultado\n",
        "    \n",
        "\n"
      ]
    },
    {
      "cell_type": "markdown",
      "metadata": {
        "id": "7qbFfOHod9UJ"
      },
      "source": [
        "## Convertendo o Pseudocódigo 1 em Programa Python"
      ]
    },
    {
      "cell_type": "code",
      "execution_count": null,
      "metadata": {
        "id": "kgNMl2kZd9UJ",
        "outputId": "36ad0cac-0d15-4612-d7f7-185ce0ea1d68"
      },
      "outputs": [
        {
          "name": "stdout",
          "output_type": "stream",
          "text": [
            "Bem-vindo ao Calculador de Área de Paralelogramo\n"
          ]
        }
      ],
      "source": [
        "print(\"Bem-vindo ao Calculador de Área de Paralelogramo\")"
      ]
    },
    {
      "cell_type": "code",
      "execution_count": null,
      "metadata": {
        "id": "RijevKGvd9UJ",
        "outputId": "9a5b0364-a023-4443-9659-076d5a81124c"
      },
      "outputs": [
        {
          "name": "stdout",
          "output_type": "stream",
          "text": [
            "Insira o comprimento da base: 4\n"
          ]
        }
      ],
      "source": [
        "# No python diferente de c++, quando entramos com um valor devemos especificar qual é o tipo dele, senao sempre vamos entrar com uma string\n",
        "base = float(input(\"Insira o comprimento da base: \"))"
      ]
    },
    {
      "cell_type": "code",
      "execution_count": null,
      "metadata": {
        "id": "K-_KXO5od9UJ",
        "outputId": "61b5e886-53d3-46f4-d29f-3810b7adda42"
      },
      "outputs": [
        {
          "name": "stdout",
          "output_type": "stream",
          "text": [
            "Insira a altura: 7\n"
          ]
        }
      ],
      "source": [
        "altura = float(input(\"Insira a altura: \"))"
      ]
    },
    {
      "cell_type": "code",
      "execution_count": null,
      "metadata": {
        "id": "eWnOB2z0d9UJ"
      },
      "outputs": [],
      "source": [
        "area = base * altura"
      ]
    },
    {
      "cell_type": "code",
      "execution_count": null,
      "metadata": {
        "id": "4fo0esmCd9UJ",
        "outputId": "53564963-f0e1-490c-b610-8a96cc73ccd4"
      },
      "outputs": [
        {
          "name": "stdout",
          "output_type": "stream",
          "text": [
            "A área do paralelogramo é:  28.0\n"
          ]
        }
      ],
      "source": [
        "print(\"A área do paralelogramo é: \", area)"
      ]
    },
    {
      "cell_type": "markdown",
      "metadata": {
        "id": "oNxQMGB3d9UJ"
      },
      "source": [
        "## Pseudocódigo 2 - Calculadora Simples"
      ]
    },
    {
      "cell_type": "markdown",
      "metadata": {
        "id": "Ac5YdwEud9UJ"
      },
      "source": [
        "\n",
        "Pseudocodigo 2\n",
        "\n",
        "    Exiba \"Bem-vindo à Calculadora\"\n",
        "    Peça para o usuário inserir o primeiro número\n",
        "    Armazene o primeiro número em uma variável\n",
        "    Peça para o usuário inserir o segundo número\n",
        "    Armazene o segundo número em uma variável\n",
        "    Peça para o usuário selecionar uma operação (+, -, *, /)\n",
        "    Armazene a operação em uma variável\n",
        "    Utilize a operação selecionada e os números armazenados para realizar o cálculo\n",
        "    Exiba o resultado\n",
        "\n",
        "\n"
      ]
    },
    {
      "cell_type": "markdown",
      "metadata": {
        "id": "TcdOkkTtd9UJ"
      },
      "source": [
        "## Convertendo o Pseudocódigo 2 em Programa Python"
      ]
    },
    {
      "cell_type": "code",
      "execution_count": null,
      "metadata": {
        "id": "jYPFSkGvd9UJ",
        "outputId": "56abe690-98c9-49c7-87da-19352e272b12"
      },
      "outputs": [
        {
          "name": "stdout",
          "output_type": "stream",
          "text": [
            "Bem-vindo à Calculadora\n"
          ]
        }
      ],
      "source": [
        "print(\"Bem-vindo à Calculadora\")"
      ]
    },
    {
      "cell_type": "code",
      "execution_count": null,
      "metadata": {
        "id": "qlq2a8NSd9UJ",
        "outputId": "eca2d2d2-67c8-42f4-996a-cfd8fae86216"
      },
      "outputs": [
        {
          "name": "stdout",
          "output_type": "stream",
          "text": [
            "Insira o primeiro número: 3\n"
          ]
        }
      ],
      "source": [
        "num1 = float(input(\"Insira o primeiro número: \"))"
      ]
    },
    {
      "cell_type": "code",
      "execution_count": null,
      "metadata": {
        "id": "usMKhiJ8d9UK",
        "outputId": "2d204dae-e900-423d-c259-10a9a9301891"
      },
      "outputs": [
        {
          "name": "stdout",
          "output_type": "stream",
          "text": [
            "Insira o segundo número: 4\n"
          ]
        }
      ],
      "source": [
        "num2 = float(input(\"Insira o segundo número: \"))"
      ]
    },
    {
      "cell_type": "code",
      "execution_count": null,
      "metadata": {
        "id": "Y-hW5RCdd9UK",
        "outputId": "769dfdb1-5337-4bcb-ca55-3d81156c4d6e"
      },
      "outputs": [
        {
          "name": "stdout",
          "output_type": "stream",
          "text": [
            "Selecione uma operação (+, -, *, /): *\n"
          ]
        }
      ],
      "source": [
        "operacao = input(\"Selecione uma operação (+, -, *, /): \")"
      ]
    },
    {
      "cell_type": "code",
      "execution_count": null,
      "metadata": {
        "id": "R55rDn_rd9UK",
        "outputId": "19ab6d93-c00d-41cf-a528-b44c2736670d"
      },
      "outputs": [
        {
          "name": "stdout",
          "output_type": "stream",
          "text": [
            "O resultado é:  12.0\n"
          ]
        }
      ],
      "source": [
        "if operacao == \"+\":\n",
        "    resultado = num1 + num2\n",
        "    print(\"O resultado é: \", resultado)\n",
        "\n",
        "elif operacao == \"-\":\n",
        "    resultado = num1 - num2\n",
        "    print(\"O resultado é: \", resultado)\n",
        "\n",
        "elif operacao == \"*\":\n",
        "    resultado = num1 * num2\n",
        "    print(\"O resultado é: \", resultado)\n",
        "\n",
        "elif operacao == \"/\":\n",
        "    resultado = num1 / num2\n",
        "    print(\"O resultado é: \", resultado)\n",
        "\n",
        "else:\n",
        "    print(\"Operação inválida.\")"
      ]
    },
    {
      "cell_type": "markdown",
      "metadata": {
        "id": "mXCO2pMzd9UK"
      },
      "source": [
        "## Pseudocódigo 3 - Algoritmo Bubble Sort\n",
        "\n",
        "\n",
        "Bubble Sort é um algoritmo de ordenação simples que funciona comparando cada elemento com o próximo, e trocando-os de lugar se eles estiverem em ordem incorreta. O algoritmo repete esse processo várias vezes, até que todos os elementos estejam ordenados. A cada passagem, o maior elemento \"flutua\" para o final do array, como uma bolha, dando origem ao nome do algoritmo.\n",
        "\n",
        "Como voces ja fizeram algoritmos, vamos implementar um algoritmo de ordenação simples mas agora em python/"
      ]
    },
    {
      "cell_type": "markdown",
      "metadata": {
        "id": "uxYTxLamd9UK"
      },
      "source": [
        "Inicie\n",
        "    \n",
        "    Para cada elemento i no array de tamanho n\n",
        "        Para cada elemento j no array de tamanho n - 1\n",
        "            Se elemento i for maior que elemento j\n",
        "                Troque os elementos i e j\n",
        "    Exiba o array ordenado\n",
        "\n",
        "Fim"
      ]
    },
    {
      "cell_type": "markdown",
      "metadata": {
        "id": "2BTNVaQud9UK"
      },
      "source": [
        "## Convertendo o Pseudocódigo 3 em Programa Python"
      ]
    },
    {
      "cell_type": "code",
      "execution_count": null,
      "metadata": {
        "id": "bLKjAUo2d9UK"
      },
      "outputs": [],
      "source": [
        "lista = [6,7,8,3,10,19,4,1,0,61,30,16,17,82,29,34,43,21,11,39,56,67,12]"
      ]
    },
    {
      "cell_type": "code",
      "execution_count": null,
      "metadata": {
        "id": "_BN3dZcYd9UK"
      },
      "outputs": [],
      "source": [
        "def bubble_sort(arr):\n",
        "\n",
        "    n = len(arr)\n",
        "\n",
        "    # Para cada elemento i do array\n",
        "    for i in range(n):\n",
        "\n",
        "        # Para cada elemento j do array\n",
        "        for j in range(0, n-i-1):\n",
        "\n",
        "            # Se elemento i for maior que elemento j\n",
        "            if arr[j] > arr[j+1]:\n",
        "\n",
        "                # Troque os elementos i e j\n",
        "                arr[j], arr[j+1] = arr[j+1], arr[j]\n",
        "\n",
        "    return arr"
      ]
    },
    {
      "cell_type": "code",
      "execution_count": null,
      "metadata": {
        "id": "bGSCLQCcd9UK",
        "outputId": "c6a10c11-bd9b-4eda-e622-d509e91b3eef"
      },
      "outputs": [
        {
          "name": "stdout",
          "output_type": "stream",
          "text": [
            "[0, 1, 3, 4, 6, 7, 8, 10, 11, 12, 16, 17, 19, 21, 29, 30, 34, 39, 43, 56, 61, 67, 82]\n"
          ]
        }
      ],
      "source": [
        "print(bubble_sort(lista))"
      ]
    },
    {
      "cell_type": "markdown",
      "metadata": {
        "id": "IZuwTxErd9UK"
      },
      "source": []
    },
    {
      "cell_type": "code",
      "execution_count": null,
      "metadata": {
        "id": "yvlcSKaUd9UK"
      },
      "outputs": [],
      "source": [
        "lista2 = [60,17,28,3,10,19,4,1,0,61,30,16,17,82,29,34,43,21,11,39,56,67,12]"
      ]
    },
    {
      "cell_type": "code",
      "execution_count": null,
      "metadata": {
        "id": "5UDLBroZd9UK",
        "outputId": "95556083-5986-44b1-c9ea-6060613e4711"
      },
      "outputs": [
        {
          "name": "stdout",
          "output_type": "stream",
          "text": [
            "[0, 1, 3, 4, 10, 11, 12, 16, 17, 17, 19, 21, 28, 29, 30, 34, 39, 43, 56, 60, 61, 67, 82]\n"
          ]
        }
      ],
      "source": [
        "print(bubble_sort(lista2))"
      ]
    },
    {
      "cell_type": "markdown",
      "metadata": {
        "id": "fsyGdNxPd9UK"
      },
      "source": [
        "# Fim"
      ]
    }
  ],
  "metadata": {
    "anaconda-cloud": {},
    "kernelspec": {
      "display_name": "Python 3 (ipykernel)",
      "language": "python",
      "name": "python3"
    },
    "language_info": {
      "codemirror_mode": {
        "name": "ipython",
        "version": 3
      },
      "file_extension": ".py",
      "mimetype": "text/x-python",
      "name": "python",
      "nbconvert_exporter": "python",
      "pygments_lexer": "ipython3",
      "version": "3.9.13"
    },
    "colab": {
      "provenance": [],
      "include_colab_link": true
    }
  },
  "nbformat": 4,
  "nbformat_minor": 0
}