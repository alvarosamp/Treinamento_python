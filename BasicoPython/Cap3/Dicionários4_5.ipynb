{
  "cells": [
    {
      "cell_type": "markdown",
      "metadata": {
        "id": "view-in-github",
        "colab_type": "text"
      },
      "source": [
        "<a href=\"https://colab.research.google.com/github/alvarosamp/Treinamento-Python/blob/main/Dicion%C3%A1rios4_5.ipynb\" target=\"_parent\"><img src=\"https://colab.research.google.com/assets/colab-badge.svg\" alt=\"Open In Colab\"/></a>"
      ]
    },
    {
      "cell_type": "markdown",
      "metadata": {
        "id": "cgfgflA6qiqj"
      },
      "source": [
        "### Trabalhando com Dicionários"
      ]
    },
    {
      "cell_type": "code",
      "execution_count": null,
      "metadata": {
        "id": "YHolc-Ejqiqk"
      },
      "outputs": [],
      "source": [
        "# Isso é uma lista\n",
        "estudantes_lst = [\"Pedro\", 24, \"Ana\", 22, \"Ronaldo\", 26, \"Janaina\", 25]"
      ]
    },
    {
      "cell_type": "code",
      "execution_count": null,
      "metadata": {
        "id": "8PSR4gixqiqk",
        "outputId": "c1d25c6e-1107-4797-d5e3-fc766b80447c"
      },
      "outputs": [
        {
          "data": {
            "text/plain": [
              "['Pedro', 24, 'Ana', 22, 'Ronaldo', 26, 'Janaina', 25]"
            ]
          },
          "execution_count": 3,
          "metadata": {},
          "output_type": "execute_result"
        }
      ],
      "source": [
        "estudantes_lst"
      ]
    },
    {
      "cell_type": "code",
      "execution_count": null,
      "metadata": {
        "id": "LXOPlCefqiql",
        "outputId": "71829e01-2b2b-4b5f-f5ba-f0d77f270bf0"
      },
      "outputs": [
        {
          "data": {
            "text/plain": [
              "list"
            ]
          },
          "execution_count": 4,
          "metadata": {},
          "output_type": "execute_result"
        }
      ],
      "source": [
        "type(estudantes_lst)"
      ]
    },
    {
      "cell_type": "code",
      "execution_count": null,
      "metadata": {
        "id": "pePOd67Sqiql"
      },
      "outputs": [],
      "source": [
        "# Isso é um dicionário\n",
        "estudantes_dict = {\"Pedro\":24, \"Ana\":22, \"Ronaldo\":26, \"Janaina\":25}"
      ]
    },
    {
      "cell_type": "code",
      "execution_count": null,
      "metadata": {
        "id": "dapk-zGhqiqm",
        "outputId": "d7431c33-63b3-4c1b-b1d4-faff3335e319"
      },
      "outputs": [
        {
          "data": {
            "text/plain": [
              "{'Pedro': 24, 'Ana': 22, 'Ronaldo': 26, 'Janaina': 25}"
            ]
          },
          "execution_count": 6,
          "metadata": {},
          "output_type": "execute_result"
        }
      ],
      "source": [
        "estudantes_dict"
      ]
    },
    {
      "cell_type": "code",
      "execution_count": null,
      "metadata": {
        "id": "FsKuMYtzqiqm",
        "outputId": "a78b746f-6d18-41fe-9c99-526b8f701639"
      },
      "outputs": [
        {
          "data": {
            "text/plain": [
              "dict"
            ]
          },
          "execution_count": 7,
          "metadata": {},
          "output_type": "execute_result"
        }
      ],
      "source": [
        "type(estudantes_dict)"
      ]
    },
    {
      "cell_type": "code",
      "execution_count": null,
      "metadata": {
        "id": "TxSOho8sqiqn",
        "outputId": "dd7c46a5-f57f-40fe-a222-a6c5ac8aaee7"
      },
      "outputs": [
        {
          "data": {
            "text/plain": [
              "24"
            ]
          },
          "execution_count": 8,
          "metadata": {},
          "output_type": "execute_result"
        }
      ],
      "source": [
        "estudantes_dict[\"Pedro\"]"
      ]
    },
    {
      "cell_type": "code",
      "execution_count": null,
      "metadata": {
        "id": "h1A6NNA8qiqn"
      },
      "outputs": [],
      "source": [
        "estudantes_dict[\"Marcelo\"] = 23"
      ]
    },
    {
      "cell_type": "code",
      "execution_count": null,
      "metadata": {
        "id": "B6lWIVr7qiqo",
        "outputId": "938040c4-4545-4d00-dcaf-9da8026c5331"
      },
      "outputs": [
        {
          "data": {
            "text/plain": [
              "23"
            ]
          },
          "execution_count": 10,
          "metadata": {},
          "output_type": "execute_result"
        }
      ],
      "source": [
        "estudantes_dict[\"Marcelo\"]"
      ]
    },
    {
      "cell_type": "code",
      "execution_count": null,
      "metadata": {
        "id": "1U2FL3Z8qiqp",
        "outputId": "c8d4bf92-37d0-4011-c676-cf6bf7ef5ee6"
      },
      "outputs": [
        {
          "data": {
            "text/plain": [
              "{'Pedro': 24, 'Ana': 22, 'Ronaldo': 26, 'Janaina': 25, 'Marcelo': 23}"
            ]
          },
          "execution_count": 11,
          "metadata": {},
          "output_type": "execute_result"
        }
      ],
      "source": [
        "estudantes_dict"
      ]
    },
    {
      "cell_type": "code",
      "execution_count": null,
      "metadata": {
        "id": "vl1osRXjqiqq"
      },
      "outputs": [],
      "source": [
        "estudantes_dict.clear()"
      ]
    },
    {
      "cell_type": "code",
      "execution_count": null,
      "metadata": {
        "id": "h-pQYS8Zqiqr",
        "outputId": "6822bc78-5676-4ce3-af0a-a77837b7d24f"
      },
      "outputs": [
        {
          "data": {
            "text/plain": [
              "{}"
            ]
          },
          "execution_count": 13,
          "metadata": {},
          "output_type": "execute_result"
        }
      ],
      "source": [
        "estudantes_dict"
      ]
    },
    {
      "cell_type": "code",
      "execution_count": null,
      "metadata": {
        "id": "n2q3EPTgqiqr"
      },
      "outputs": [],
      "source": [
        "del estudantes_dict"
      ]
    },
    {
      "cell_type": "code",
      "execution_count": null,
      "metadata": {
        "id": "t982abOhqiqs",
        "outputId": "2ec56649-d32d-4821-c807-8c5923d5b62d"
      },
      "outputs": [
        {
          "ename": "NameError",
          "evalue": "name 'estudantes_dict' is not defined",
          "output_type": "error",
          "traceback": [
            "\u001b[0;31m---------------------------------------------------------------------------\u001b[0m",
            "\u001b[0;31mNameError\u001b[0m                                 Traceback (most recent call last)",
            "\u001b[0;32m/var/folders/dc/lqrc3k5j4438r150cbrdr_000000gn/T/ipykernel_3029/1634695477.py\u001b[0m in \u001b[0;36m<module>\u001b[0;34m\u001b[0m\n\u001b[0;32m----> 1\u001b[0;31m \u001b[0mestudantes_dict\u001b[0m\u001b[0;34m\u001b[0m\u001b[0;34m\u001b[0m\u001b[0m\n\u001b[0m",
            "\u001b[0;31mNameError\u001b[0m: name 'estudantes_dict' is not defined"
          ]
        }
      ],
      "source": [
        "estudantes_dict"
      ]
    },
    {
      "cell_type": "code",
      "execution_count": null,
      "metadata": {
        "id": "EpuA3T5Qqiqs"
      },
      "outputs": [],
      "source": [
        "estudantes = {\"Pedro\":24, \"Ana\":22, \"Ronaldo\":26, \"Janaina\":25}"
      ]
    },
    {
      "cell_type": "code",
      "execution_count": null,
      "metadata": {
        "id": "2K-xqkjbqiqt",
        "outputId": "8190b291-7ab9-43c8-a365-d8de533fe9c8"
      },
      "outputs": [
        {
          "data": {
            "text/plain": [
              "{'Pedro': 24, 'Ana': 22, 'Ronaldo': 26, 'Janaina': 25}"
            ]
          },
          "execution_count": 17,
          "metadata": {},
          "output_type": "execute_result"
        }
      ],
      "source": [
        "estudantes"
      ]
    },
    {
      "cell_type": "code",
      "execution_count": null,
      "metadata": {
        "id": "BOnlZgQSqiqt",
        "outputId": "a77eeca3-acb1-4c7b-fec0-aa3c2cb8c6a8"
      },
      "outputs": [
        {
          "data": {
            "text/plain": [
              "4"
            ]
          },
          "execution_count": 18,
          "metadata": {},
          "output_type": "execute_result"
        }
      ],
      "source": [
        "len(estudantes)"
      ]
    },
    {
      "cell_type": "code",
      "execution_count": null,
      "metadata": {
        "id": "RC8yI4DTqiqu",
        "outputId": "8b27a2a0-6de6-4d70-9458-e1238ebc4987"
      },
      "outputs": [
        {
          "data": {
            "text/plain": [
              "dict_keys(['Pedro', 'Ana', 'Ronaldo', 'Janaina'])"
            ]
          },
          "execution_count": 19,
          "metadata": {},
          "output_type": "execute_result"
        }
      ],
      "source": [
        "estudantes.keys()"
      ]
    },
    {
      "cell_type": "code",
      "execution_count": null,
      "metadata": {
        "id": "dmK_9Disqiqu",
        "outputId": "7b21e284-d68f-4885-a8e2-f373548959b3"
      },
      "outputs": [
        {
          "data": {
            "text/plain": [
              "dict_values([24, 22, 26, 25])"
            ]
          },
          "execution_count": 20,
          "metadata": {},
          "output_type": "execute_result"
        }
      ],
      "source": [
        "estudantes.values()"
      ]
    },
    {
      "cell_type": "code",
      "execution_count": null,
      "metadata": {
        "id": "lDY_7lI8qiqv",
        "outputId": "5adee10a-e67b-4f93-bd4f-dc6f41e3392e"
      },
      "outputs": [
        {
          "data": {
            "text/plain": [
              "dict_items([('Pedro', 24), ('Ana', 22), ('Ronaldo', 26), ('Janaina', 25)])"
            ]
          },
          "execution_count": 21,
          "metadata": {},
          "output_type": "execute_result"
        }
      ],
      "source": [
        "estudantes.items()"
      ]
    },
    {
      "cell_type": "code",
      "execution_count": null,
      "metadata": {
        "id": "kvXdFgdPqiqv"
      },
      "outputs": [],
      "source": [
        "estudantes2 = {\"Camila\":27, \"Adriana\":28, \"Roberta\":26}"
      ]
    },
    {
      "cell_type": "code",
      "execution_count": null,
      "metadata": {
        "id": "0XwT1KeFqiqw",
        "outputId": "00292d9c-852c-4474-e60a-d3529111f315"
      },
      "outputs": [
        {
          "data": {
            "text/plain": [
              "{'Camila': 27, 'Adriana': 28, 'Roberta': 26}"
            ]
          },
          "execution_count": 23,
          "metadata": {},
          "output_type": "execute_result"
        }
      ],
      "source": [
        "estudantes2"
      ]
    },
    {
      "cell_type": "code",
      "execution_count": null,
      "metadata": {
        "id": "ZMAmkVoCqiqw"
      },
      "outputs": [],
      "source": [
        "estudantes.update(estudantes2)"
      ]
    },
    {
      "cell_type": "code",
      "execution_count": null,
      "metadata": {
        "id": "qSM4xiH5qiqw",
        "outputId": "ea1bea0e-2fa2-4674-a1e1-0b11266c0b78"
      },
      "outputs": [
        {
          "data": {
            "text/plain": [
              "{'Pedro': 24,\n",
              " 'Ana': 22,\n",
              " 'Ronaldo': 26,\n",
              " 'Janaina': 25,\n",
              " 'Camila': 27,\n",
              " 'Adriana': 28,\n",
              " 'Roberta': 26}"
            ]
          },
          "execution_count": 25,
          "metadata": {},
          "output_type": "execute_result"
        }
      ],
      "source": [
        "estudantes"
      ]
    },
    {
      "cell_type": "code",
      "execution_count": null,
      "metadata": {
        "id": "rDQLu7DHqiqx"
      },
      "outputs": [],
      "source": [
        "dic1 = {}"
      ]
    },
    {
      "cell_type": "code",
      "execution_count": null,
      "metadata": {
        "id": "uni9cJXnqiqy",
        "outputId": "1a98caae-d339-4fdf-9272-008a8ffee084"
      },
      "outputs": [
        {
          "data": {
            "text/plain": [
              "{}"
            ]
          },
          "execution_count": 27,
          "metadata": {},
          "output_type": "execute_result"
        }
      ],
      "source": [
        "dic1"
      ]
    },
    {
      "cell_type": "code",
      "execution_count": null,
      "metadata": {
        "id": "JjKdD5gIqiqz"
      },
      "outputs": [],
      "source": [
        "dic1[\"chave_um\"] = 2"
      ]
    },
    {
      "cell_type": "code",
      "execution_count": null,
      "metadata": {
        "id": "lxqA1Zknqiq0",
        "outputId": "90ba0401-8c32-4535-e20e-5ddcff89ec5d"
      },
      "outputs": [
        {
          "name": "stdout",
          "output_type": "stream",
          "text": [
            "{'chave_um': 2}\n"
          ]
        }
      ],
      "source": [
        "print(dic1)"
      ]
    },
    {
      "cell_type": "code",
      "execution_count": null,
      "metadata": {
        "id": "T9nV2O62qiq0"
      },
      "outputs": [],
      "source": [
        "dic1[10] = 5"
      ]
    },
    {
      "cell_type": "code",
      "execution_count": null,
      "metadata": {
        "id": "fo0CBT-cqiq2",
        "outputId": "ce9bdc13-4d8d-4e9f-e4d9-f87b9ad88e42"
      },
      "outputs": [
        {
          "data": {
            "text/plain": [
              "{'chave_um': 2, 10: 5}"
            ]
          },
          "execution_count": 31,
          "metadata": {},
          "output_type": "execute_result"
        }
      ],
      "source": [
        "dic1"
      ]
    },
    {
      "cell_type": "code",
      "execution_count": null,
      "metadata": {
        "id": "X-C3JbMuqiq-"
      },
      "outputs": [],
      "source": [
        "dic1[9.13] = \"Python\""
      ]
    },
    {
      "cell_type": "code",
      "execution_count": null,
      "metadata": {
        "id": "lwGM7OQpqiq-",
        "outputId": "ad6956ee-678d-4f75-df58-1e0da50a1164"
      },
      "outputs": [
        {
          "data": {
            "text/plain": [
              "{'chave_um': 2, 10: 5, 9.13: 'Python'}"
            ]
          },
          "execution_count": 33,
          "metadata": {},
          "output_type": "execute_result"
        }
      ],
      "source": [
        "dic1"
      ]
    },
    {
      "cell_type": "code",
      "execution_count": null,
      "metadata": {
        "id": "c0WcB0z6qiq_"
      },
      "outputs": [],
      "source": [
        "dic1[\"teste\"] = 5"
      ]
    },
    {
      "cell_type": "code",
      "execution_count": null,
      "metadata": {
        "id": "zYy_f2UVqirA",
        "outputId": "ad88ebac-0f5d-4f2d-df95-72cae9fadd25"
      },
      "outputs": [
        {
          "data": {
            "text/plain": [
              "{'chave_um': 2, 10: 5, 9.13: 'Python', 'teste': 5}"
            ]
          },
          "execution_count": 35,
          "metadata": {},
          "output_type": "execute_result"
        }
      ],
      "source": [
        "dic1"
      ]
    },
    {
      "cell_type": "code",
      "execution_count": null,
      "metadata": {
        "id": "LQLCSTDGqirB"
      },
      "outputs": [],
      "source": [
        "dict1 = {}"
      ]
    },
    {
      "cell_type": "code",
      "execution_count": null,
      "metadata": {
        "id": "T0r5xVT0qirB",
        "outputId": "82790531-bea5-49a9-cd69-2f03a167cc65"
      },
      "outputs": [
        {
          "data": {
            "text/plain": [
              "{}"
            ]
          },
          "execution_count": 37,
          "metadata": {},
          "output_type": "execute_result"
        }
      ],
      "source": [
        "dict1"
      ]
    },
    {
      "cell_type": "code",
      "execution_count": null,
      "metadata": {
        "id": "Vqot_uxgqirS"
      },
      "outputs": [],
      "source": [
        "dict1[\"teste\"] = 10"
      ]
    },
    {
      "cell_type": "code",
      "execution_count": null,
      "metadata": {
        "id": "yPR1SeYPqirT"
      },
      "outputs": [],
      "source": [
        "dict1[\"key\"] = \"teste\""
      ]
    },
    {
      "cell_type": "code",
      "execution_count": null,
      "metadata": {
        "id": "zNjg4EnfqirT",
        "outputId": "9271db9c-fbdf-4620-b23c-1af55ce80156"
      },
      "outputs": [
        {
          "data": {
            "text/plain": [
              "{'teste': 10, 'key': 'teste'}"
            ]
          },
          "execution_count": 40,
          "metadata": {},
          "output_type": "execute_result"
        }
      ],
      "source": [
        "# Atenção, pois chave e valor podem ser iguais, mas representam coisas diferentes.\n",
        "dict1"
      ]
    },
    {
      "cell_type": "code",
      "execution_count": null,
      "metadata": {
        "id": "GCwglCqVqirU"
      },
      "outputs": [],
      "source": [
        "dict2 = {}"
      ]
    },
    {
      "cell_type": "code",
      "execution_count": null,
      "metadata": {
        "id": "X90Wly1oqirV"
      },
      "outputs": [],
      "source": [
        "dict2[\"key1\"] = \"Data Science\""
      ]
    },
    {
      "cell_type": "code",
      "execution_count": null,
      "metadata": {
        "id": "YxH6mWLhqirW"
      },
      "outputs": [],
      "source": [
        "dict2[\"key2\"] = 10"
      ]
    },
    {
      "cell_type": "code",
      "execution_count": null,
      "metadata": {
        "id": "eOLyek7XqirW"
      },
      "outputs": [],
      "source": [
        "dict2[\"key3\"] = 100"
      ]
    },
    {
      "cell_type": "code",
      "execution_count": null,
      "metadata": {
        "id": "ZrAnGLWFqirX",
        "outputId": "61d1aa82-740f-4be3-e884-e9b541685dc2"
      },
      "outputs": [
        {
          "data": {
            "text/plain": [
              "{'key1': 'Data Science', 'key2': 10, 'key3': 100}"
            ]
          },
          "execution_count": 45,
          "metadata": {},
          "output_type": "execute_result"
        }
      ],
      "source": [
        "dict2"
      ]
    },
    {
      "cell_type": "code",
      "execution_count": null,
      "metadata": {
        "id": "hMWV_E4MqirX"
      },
      "outputs": [],
      "source": [
        "a = dict2[\"key1\"]"
      ]
    },
    {
      "cell_type": "code",
      "execution_count": null,
      "metadata": {
        "id": "3MutSi1BqirY"
      },
      "outputs": [],
      "source": [
        "b = dict2[\"key2\"]"
      ]
    },
    {
      "cell_type": "code",
      "execution_count": null,
      "metadata": {
        "id": "yDCDylHlqirY"
      },
      "outputs": [],
      "source": [
        "c = dict2[\"key3\"]"
      ]
    },
    {
      "cell_type": "code",
      "execution_count": null,
      "metadata": {
        "id": "CeuW0xsiqirZ",
        "outputId": "06abac82-d778-469b-db88-5fac188e025f"
      },
      "outputs": [
        {
          "data": {
            "text/plain": [
              "('Data Science', 10, 100)"
            ]
          },
          "execution_count": 49,
          "metadata": {},
          "output_type": "execute_result"
        }
      ],
      "source": [
        "a, b, c"
      ]
    },
    {
      "cell_type": "code",
      "execution_count": null,
      "metadata": {
        "id": "18hZssBgqirZ"
      },
      "outputs": [],
      "source": [
        "# Dicionário de listas\n",
        "dict3 = {'chave1':1230, 'chave2':[22,453,73.4], 'chave3':['picanha', 'fraldinha', 'alcatra']}"
      ]
    },
    {
      "cell_type": "code",
      "execution_count": null,
      "metadata": {
        "id": "O5iZ8Jnzqira",
        "outputId": "a2126852-1900-42bc-d46b-7745183fbaec"
      },
      "outputs": [
        {
          "data": {
            "text/plain": [
              "{'chave1': 1230,\n",
              " 'chave2': [22, 453, 73.4],\n",
              " 'chave3': ['picanha', 'fraldinha', 'alcatra']}"
            ]
          },
          "execution_count": 51,
          "metadata": {},
          "output_type": "execute_result"
        }
      ],
      "source": [
        "dict3"
      ]
    },
    {
      "cell_type": "code",
      "execution_count": null,
      "metadata": {
        "id": "SDI50k-sqirb",
        "outputId": "71ab94ca-2385-4a1a-85fc-d10cb1f265d5"
      },
      "outputs": [
        {
          "data": {
            "text/plain": [
              "[22, 453, 73.4]"
            ]
          },
          "execution_count": 52,
          "metadata": {},
          "output_type": "execute_result"
        }
      ],
      "source": [
        "dict3['chave2']"
      ]
    },
    {
      "cell_type": "code",
      "execution_count": null,
      "metadata": {
        "id": "k8olZ_u7qirc",
        "outputId": "46497a6d-0126-4073-db48-eaaf4d7ad528"
      },
      "outputs": [
        {
          "data": {
            "text/plain": [
              "'PICANHA'"
            ]
          },
          "execution_count": 53,
          "metadata": {},
          "output_type": "execute_result"
        }
      ],
      "source": [
        "# Acessando um item da lista, dentro do dicionário\n",
        "dict3['chave3'][0].upper()"
      ]
    },
    {
      "cell_type": "code",
      "execution_count": null,
      "metadata": {
        "id": "UftyIQDsqirc"
      },
      "outputs": [],
      "source": [
        "# Operações com itens da lista, dentro do dicionário\n",
        "var1 = dict3['chave2'][0] - 2"
      ]
    },
    {
      "cell_type": "code",
      "execution_count": null,
      "metadata": {
        "id": "8yTMCKGkqire",
        "outputId": "8596eb4e-42ad-4485-e503-dd1293ddb4d4"
      },
      "outputs": [
        {
          "data": {
            "text/plain": [
              "20"
            ]
          },
          "execution_count": 55,
          "metadata": {},
          "output_type": "execute_result"
        }
      ],
      "source": [
        "var1"
      ]
    },
    {
      "cell_type": "code",
      "execution_count": null,
      "metadata": {
        "id": "1hwE12thqire"
      },
      "outputs": [],
      "source": [
        "# Duas operações no mesmo comando, para atualizar um item dentro da lista\n",
        "dict3['chave2'][0] -= 2"
      ]
    },
    {
      "cell_type": "code",
      "execution_count": null,
      "metadata": {
        "id": "DhbGqap_qirf",
        "outputId": "123f00d8-b94b-4028-b900-4667c6e29b7d"
      },
      "outputs": [
        {
          "data": {
            "text/plain": [
              "{'chave1': 1230,\n",
              " 'chave2': [20, 453, 73.4],\n",
              " 'chave3': ['picanha', 'fraldinha', 'alcatra']}"
            ]
          },
          "execution_count": 57,
          "metadata": {},
          "output_type": "execute_result"
        }
      ],
      "source": [
        "dict3"
      ]
    },
    {
      "cell_type": "markdown",
      "metadata": {
        "id": "jb9XDCwZqirf"
      },
      "source": [
        "### Criando Dicionários Aninhados"
      ]
    },
    {
      "cell_type": "code",
      "execution_count": null,
      "metadata": {
        "id": "JYEbW-RGqirf"
      },
      "outputs": [],
      "source": [
        "# Criando dicionários aninhados\n",
        "dict_aninhado = {'key1':{'key2_aninhada':{'key3_aninhada':'Dict aninhado em Python'}}}"
      ]
    },
    {
      "cell_type": "code",
      "execution_count": null,
      "metadata": {
        "id": "mJfcvFxNqirg",
        "outputId": "d5a00b62-b612-4359-ca7e-0e14c361482e"
      },
      "outputs": [
        {
          "data": {
            "text/plain": [
              "{'key1': {'key2_aninhada': {'key3_aninhada': 'Dict aninhado em Python'}}}"
            ]
          },
          "execution_count": 59,
          "metadata": {},
          "output_type": "execute_result"
        }
      ],
      "source": [
        "dict_aninhado"
      ]
    },
    {
      "cell_type": "code",
      "execution_count": null,
      "metadata": {
        "id": "M4-fl88oqirh",
        "outputId": "bc659443-6635-45cb-80d3-ae57be2c4aa3"
      },
      "outputs": [
        {
          "data": {
            "text/plain": [
              "'Dict aninhado em Python'"
            ]
          },
          "execution_count": 60,
          "metadata": {},
          "output_type": "execute_result"
        }
      ],
      "source": [
        "dict_aninhado['key1']['key2_aninhada']['key3_aninhada']"
      ]
    }
  ],
  "metadata": {
    "anaconda-cloud": {},
    "kernelspec": {
      "display_name": "Python 3 (ipykernel)",
      "language": "python",
      "name": "python3"
    },
    "language_info": {
      "codemirror_mode": {
        "name": "ipython",
        "version": 3
      },
      "file_extension": ".py",
      "mimetype": "text/x-python",
      "name": "python",
      "nbconvert_exporter": "python",
      "pygments_lexer": "ipython3",
      "version": "3.9.13"
    },
    "colab": {
      "provenance": [],
      "include_colab_link": true
    }
  },
  "nbformat": 4,
  "nbformat_minor": 0
}