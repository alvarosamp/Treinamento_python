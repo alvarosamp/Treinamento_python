{
  "cells": [
    {
      "cell_type": "markdown",
      "metadata": {
        "id": "view-in-github",
        "colab_type": "text"
      },
      "source": [
        "<a href=\"https://colab.research.google.com/github/alvarosamp/Treinamento-Python/blob/main/Tuplas4_3.ipynb\" target=\"_parent\"><img src=\"https://colab.research.google.com/assets/colab-badge.svg\" alt=\"Open In Colab\"/></a>"
      ]
    },
    {
      "cell_type": "markdown",
      "metadata": {
        "id": "1X-4BaaUqgBh"
      },
      "source": [
        "### Trabalhando com Tuplas"
      ]
    },
    {
      "cell_type": "code",
      "execution_count": 1,
      "metadata": {
        "id": "lSE3CYGmqgBi"
      },
      "outputs": [],
      "source": [
        "# Criando uma tupla\n",
        "tupla1 = (\"Geografia\", 23, \"Elefantes\", 9.8, 'Python')"
      ]
    },
    {
      "cell_type": "code",
      "execution_count": 2,
      "metadata": {
        "colab": {
          "base_uri": "https://localhost:8080/"
        },
        "id": "lFvtn-6TqgBi",
        "outputId": "9e034879-cafa-443b-cf6e-246509a4fd69"
      },
      "outputs": [
        {
          "output_type": "execute_result",
          "data": {
            "text/plain": [
              "('Geografia', 23, 'Elefantes', 9.8, 'Python')"
            ]
          },
          "metadata": {},
          "execution_count": 2
        }
      ],
      "source": [
        "# Imprimindo a tupla\n",
        "tupla1"
      ]
    },
    {
      "cell_type": "code",
      "execution_count": 3,
      "metadata": {
        "colab": {
          "base_uri": "https://localhost:8080/",
          "height": 159
        },
        "id": "thRMX9ojqgBk",
        "outputId": "053d4382-d5ae-415c-ac8d-f9c4b6bd9f9b"
      },
      "outputs": [
        {
          "output_type": "error",
          "ename": "AttributeError",
          "evalue": "'tuple' object has no attribute 'append'",
          "traceback": [
            "\u001b[0;31m---------------------------------------------------------------------------\u001b[0m",
            "\u001b[0;31mAttributeError\u001b[0m                            Traceback (most recent call last)",
            "\u001b[0;32m/tmp/ipython-input-3-2593053863.py\u001b[0m in \u001b[0;36m<cell line: 0>\u001b[0;34m()\u001b[0m\n\u001b[1;32m      1\u001b[0m \u001b[0;31m# Tuplas não suportam append()\u001b[0m\u001b[0;34m\u001b[0m\u001b[0;34m\u001b[0m\u001b[0m\n\u001b[0;32m----> 2\u001b[0;31m \u001b[0mtupla1\u001b[0m\u001b[0;34m.\u001b[0m\u001b[0mappend\u001b[0m\u001b[0;34m(\u001b[0m\u001b[0;34m\"Chocolate\"\u001b[0m\u001b[0;34m)\u001b[0m\u001b[0;34m\u001b[0m\u001b[0;34m\u001b[0m\u001b[0m\n\u001b[0m",
            "\u001b[0;31mAttributeError\u001b[0m: 'tuple' object has no attribute 'append'"
          ]
        }
      ],
      "source": [
        "# Tuplas não suportam append()\n",
        "tupla1.append(\"Chocolate\")"
      ]
    },
    {
      "cell_type": "code",
      "execution_count": null,
      "metadata": {
        "id": "qWGnXuRDqgBk"
      },
      "outputs": [],
      "source": [
        "# Tuplas não suportam delete de um item específico\n",
        "del tupla1[\"Elefantes\"]"
      ]
    },
    {
      "cell_type": "code",
      "execution_count": null,
      "metadata": {
        "id": "_jgeGtxSqgBl"
      },
      "outputs": [],
      "source": [
        "# Tuplas podem ter um único item\n",
        "tupla1 = (\"Chocolate\")"
      ]
    },
    {
      "cell_type": "code",
      "execution_count": null,
      "metadata": {
        "id": "VSxIyiv-qgBl"
      },
      "outputs": [],
      "source": [
        "tupla1"
      ]
    },
    {
      "cell_type": "code",
      "execution_count": null,
      "metadata": {
        "id": "QK4jQhX8qgBm"
      },
      "outputs": [],
      "source": [
        "tupla1 = (\"Geografia\", 23, \"Elefantes\", 9.8, 'Python')"
      ]
    },
    {
      "cell_type": "code",
      "execution_count": null,
      "metadata": {
        "id": "od_KJkQSqgBm"
      },
      "outputs": [],
      "source": [
        "tupla1[0]"
      ]
    },
    {
      "cell_type": "code",
      "execution_count": null,
      "metadata": {
        "id": "gL4Xym5VqgBn"
      },
      "outputs": [],
      "source": [
        "# Verificando o comprimento da tupla\n",
        "len(tupla1)"
      ]
    },
    {
      "cell_type": "code",
      "execution_count": null,
      "metadata": {
        "id": "6mAzHG3XqgBn"
      },
      "outputs": [],
      "source": [
        "# Slicing, da mesma forma que se faz com listas\n",
        "tupla1[1:]"
      ]
    },
    {
      "cell_type": "code",
      "execution_count": null,
      "metadata": {
        "id": "SFKvzMYMqgBq"
      },
      "outputs": [],
      "source": [
        "tupla1.index('Elefantes')"
      ]
    },
    {
      "cell_type": "code",
      "execution_count": null,
      "metadata": {
        "id": "aE38Z2NnqgBr"
      },
      "outputs": [],
      "source": [
        "# Tuplas não suportam atribuição de item\n",
        "tupla1[1] = 21"
      ]
    },
    {
      "cell_type": "code",
      "execution_count": null,
      "metadata": {
        "id": "7VXVcN6yqgBs"
      },
      "outputs": [],
      "source": [
        "# Deletando a tupla\n",
        "del tupla1"
      ]
    },
    {
      "cell_type": "code",
      "execution_count": null,
      "metadata": {
        "id": "YdgW8ph4qgBs"
      },
      "outputs": [],
      "source": [
        "tupla1"
      ]
    },
    {
      "cell_type": "code",
      "execution_count": null,
      "metadata": {
        "id": "FMLdhZLjqgBt"
      },
      "outputs": [],
      "source": [
        "# Criando uma tupla\n",
        "t2 = ('A', 'B', 'C')"
      ]
    },
    {
      "cell_type": "code",
      "execution_count": null,
      "metadata": {
        "id": "aiQ_T3dYqgBt"
      },
      "outputs": [],
      "source": [
        "t2"
      ]
    },
    {
      "cell_type": "code",
      "execution_count": null,
      "metadata": {
        "id": "T_kNDPJSqgBu"
      },
      "outputs": [],
      "source": [
        "# Tuplas não suportam atribuição de item\n",
        "t2[0] = 'D'"
      ]
    },
    {
      "cell_type": "code",
      "execution_count": null,
      "metadata": {
        "id": "MXfdUEI6qgBu"
      },
      "outputs": [],
      "source": [
        "# Usando a função list() para converter uma tupla para lista\n",
        "lista_t2 = list(t2)"
      ]
    },
    {
      "cell_type": "code",
      "execution_count": null,
      "metadata": {
        "id": "FFUR9ljLqgBu"
      },
      "outputs": [],
      "source": [
        "type(t2)"
      ]
    },
    {
      "cell_type": "code",
      "execution_count": null,
      "metadata": {
        "id": "M_kFMopnqgBv"
      },
      "outputs": [],
      "source": [
        "type(lista_t2)"
      ]
    },
    {
      "cell_type": "code",
      "execution_count": null,
      "metadata": {
        "id": "UOCPbCyYqgBw"
      },
      "outputs": [],
      "source": [
        "lista_t2"
      ]
    },
    {
      "cell_type": "code",
      "execution_count": null,
      "metadata": {
        "id": "tAtpXDhnqgBw"
      },
      "outputs": [],
      "source": [
        "lista_t2.append('D')"
      ]
    },
    {
      "cell_type": "code",
      "execution_count": null,
      "metadata": {
        "id": "pCfeDeTZqgBx"
      },
      "outputs": [],
      "source": [
        "# Usando a função tuple() para converter uma lista para tupla\n",
        "t2 = tuple(lista_t2)"
      ]
    },
    {
      "cell_type": "code",
      "execution_count": null,
      "metadata": {
        "id": "PlPSYp3CqgBx"
      },
      "outputs": [],
      "source": [
        "t2"
      ]
    }
  ],
  "metadata": {
    "anaconda-cloud": {},
    "kernelspec": {
      "display_name": "Python 3 (ipykernel)",
      "language": "python",
      "name": "python3"
    },
    "language_info": {
      "codemirror_mode": {
        "name": "ipython",
        "version": 3
      },
      "file_extension": ".py",
      "mimetype": "text/x-python",
      "name": "python",
      "nbconvert_exporter": "python",
      "pygments_lexer": "ipython3",
      "version": "3.9.13"
    },
    "colab": {
      "provenance": [],
      "include_colab_link": true
    }
  },
  "nbformat": 4,
  "nbformat_minor": 0
}